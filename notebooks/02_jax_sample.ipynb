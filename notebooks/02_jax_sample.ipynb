{
 "cells": [
  {
   "cell_type": "code",
   "execution_count": null,
   "id": "150d1c68",
   "metadata": {},
   "outputs": [],
   "source": [
    "import jax\n",
    "import jax.numpy as jnp"
   ]
  },
  {
   "cell_type": "code",
   "execution_count": null,
   "id": "9748c1d2",
   "metadata": {},
   "outputs": [],
   "source": [
    "@jax.jit\n",
    "def f(x):\n",
    "    print(\"コンパイル中\")\n",
    "    return x + 1"
   ]
  },
  {
   "cell_type": "code",
   "execution_count": null,
   "id": "6bde6a74",
   "metadata": {},
   "outputs": [],
   "source": [
    "# 1回目の呼び出しではコンパイルが行われる\n",
    "print(f(jnp.array([1.0, 2.0, 3.0])))\n",
    "# 2回目の呼び出しではコンパイルは行われない\n",
    "print(f(jnp.array([4.0, 5.0, 6.0])))\n",
    "\n",
    "# shapeが異なると再コンパイルされる\n",
    "print(f(jnp.array([1.0, 2.0, 3.0, 4.0])))"
   ]
  }
 ],
 "metadata": {
  "kernelspec": {
   "display_name": "sandbox-kado (3.11.13)",
   "language": "python",
   "name": "python3"
  },
  "language_info": {
   "codemirror_mode": {
    "name": "ipython",
    "version": 3
   },
   "file_extension": ".py",
   "mimetype": "text/x-python",
   "name": "python",
   "nbconvert_exporter": "python",
   "pygments_lexer": "ipython3",
   "version": "3.11.13"
  }
 },
 "nbformat": 4,
 "nbformat_minor": 5
}
