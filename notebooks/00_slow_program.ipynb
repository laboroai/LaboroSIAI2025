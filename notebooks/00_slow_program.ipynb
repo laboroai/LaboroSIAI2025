{
 "cells": [
  {
   "cell_type": "code",
   "execution_count": null,
   "id": "150d1c68",
   "metadata": {},
   "outputs": [],
   "source": [
    "import os, tqdm\n",
    "import numpy as np\n",
    "import pandas as pd\n",
    "import matplotlib.pyplot as plt\n",
    "from src import dataio, visualize, evaluate"
   ]
  },
  {
   "cell_type": "code",
   "execution_count": null,
   "id": "73e0eed5",
   "metadata": {},
   "outputs": [],
   "source": [
    "# データセットの読み込み\n",
    "df_test, images_test = dataio.read_data('../dataset/test')"
   ]
  },
  {
   "cell_type": "code",
   "execution_count": null,
   "id": "f32ee591",
   "metadata": {},
   "outputs": [],
   "source": [
    "visualize.plot_images(images_test[:25], df_test, ncols=5, figsize=(15, 15))"
   ]
  },
  {
   "cell_type": "code",
   "execution_count": null,
   "id": "f7979958",
   "metadata": {},
   "outputs": [],
   "source": [
    "logistic_data = dataio.read_logistic_weights('../weights/logistic_dict.pkl')"
   ]
  },
  {
   "cell_type": "code",
   "execution_count": null,
   "id": "a6d3b61d",
   "metadata": {},
   "outputs": [],
   "source": [
    "def preprocessing(images: np.ndarray) -> np.ndarray:\n",
    "    \"\"\"画像の前処理を行う関数\n",
    "\n",
    "    Parameters\n",
    "    ----------\n",
    "    images : np.ndarray\n",
    "        前処理する画像\n",
    "\n",
    "    Returns\n",
    "    -------\n",
    "    np.ndarray\n",
    "        前処理後の画像\n",
    "    \"\"\"\n",
    "    images = images.astype(np.float32)\n",
    "    for i in range(images.shape[0]):\n",
    "        for j in range(images.shape[1]):\n",
    "            for k in range(images.shape[2]):\n",
    "                images[i, j, k] = images[i, j, k] / 255.0\n",
    "    return images\n",
    "\n",
    "def standardize(images: np.ndarray, mean: np.ndarray, std: np.ndarray) -> np.ndarray:\n",
    "    \"\"\"画像の標準化を行う関数\n",
    "\n",
    "    Parameters\n",
    "    ----------\n",
    "    images : np.ndarray\n",
    "        標準化する画像\n",
    "    mean : np.ndarray\n",
    "        平均値\n",
    "    std : np.ndarray\n",
    "        標準偏差\n",
    "\n",
    "    Returns\n",
    "    -------\n",
    "    np.ndarray\n",
    "        標準化後の画像\n",
    "    \"\"\"\n",
    "    images = (images - mean) / std\n",
    "    return images"
   ]
  },
  {
   "cell_type": "code",
   "execution_count": null,
   "id": "e89550ef",
   "metadata": {},
   "outputs": [],
   "source": [
    "def predict(weights_dict: dict[str, np.ndarray], images: np.ndarray) -> np.ndarray:\n",
    "    \"\"\"ロジスティック回帰モデルを用いて画像のクラスを予測する関数\n",
    "\n",
    "    Parameters\n",
    "    ----------\n",
    "    weights_dict : dict[str, np.ndarray]\n",
    "        ロジスティック回帰モデルの重みと切片\n",
    "    images : np.ndarray\n",
    "        予測する画像\n",
    "\n",
    "    Returns\n",
    "    -------\n",
    "    np.ndarray\n",
    "        予測されたクラス\n",
    "    \"\"\"\n",
    "    weights = weights_dict['weights']\n",
    "    intercept = weights_dict['intercept']\n",
    "    \n",
    "    predictions = []\n",
    "    for i in range(images.shape[0]):\n",
    "        maxval, argmax = -np.inf, -1\n",
    "        for j in range(weights.shape[0]):\n",
    "            pred = 0\n",
    "            # 内積\n",
    "            for k in range(images.shape[1]):\n",
    "                for l in range(images.shape[2]):\n",
    "                    pred += images[i, k, l] * weights[j, k*images.shape[2]+l]\n",
    "            # 切片\n",
    "            pred += intercept[j]\n",
    "            if pred > maxval:\n",
    "                maxval = pred\n",
    "                argmax = j\n",
    "        predictions.append(argmax)\n",
    "\n",
    "    return np.array(predictions)"
   ]
  },
  {
   "cell_type": "code",
   "execution_count": null,
   "id": "f75e9402",
   "metadata": {},
   "outputs": [],
   "source": [
    "y_true = df_test[\"label\"].values"
   ]
  },
  {
   "cell_type": "code",
   "execution_count": null,
   "id": "00f4e749",
   "metadata": {},
   "outputs": [],
   "source": [
    "def run():\n",
    "    images_test_preprocessed = preprocessing(images_test)\n",
    "    images_test_preprocessed = standardize(images_test_preprocessed,\n",
    "                                            mean=logistic_data['mean'], \n",
    "                                            std=logistic_data['std'])\n",
    "    predictions = predict(logistic_data, images_test_preprocessed)\n",
    "    result = evaluate.calculate_accuracy(y_true, predictions)\n",
    "    return result\n",
    "    \n",
    "result = evaluate.measure_runtime(run)\n",
    "print(f\"Accuracy: {result:.4f}\")"
   ]
  },
  {
   "cell_type": "code",
   "execution_count": null,
   "id": "7d7ff4cd",
   "metadata": {},
   "outputs": [],
   "source": []
  }
 ],
 "metadata": {
  "kernelspec": {
   "display_name": "sandbox-kado (3.11.13)",
   "language": "python",
   "name": "python3"
  },
  "language_info": {
   "codemirror_mode": {
    "name": "ipython",
    "version": 3
   },
   "file_extension": ".py",
   "mimetype": "text/x-python",
   "name": "python",
   "nbconvert_exporter": "python",
   "pygments_lexer": "ipython3",
   "version": "3.11.13"
  }
 },
 "nbformat": 4,
 "nbformat_minor": 5
}
